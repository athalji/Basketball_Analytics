{
 "cells": [
  {
   "cell_type": "markdown",
   "id": "bbc64cae",
   "metadata": {},
   "source": [
    "# Basketball Analytics Predictive Modeling"
   ]
  },
  {
   "cell_type": "markdown",
   "id": "61b333f9",
   "metadata": {},
   "source": [
    "After the data engineering step, we can start modeling.\n",
    "In the previous step we reformated the data from ball touch level to ball possession level. The goal is to build a model to predict wehther a ball possession ends with a shot attempt from the presence of defensive plays. After building the model we can use feature importance to generate defensive player ranking. The idea is that players that make more important defensive plays often are ranked higher. The defensive ranking is a weighted average of the defensive plays they make.\n",
    "\n",
    "We can use any predictive model that can give us a measure of feature importance. For our caase logistic regression is used and variable coefficients are used as feature importance (we can do that in this case since our features are normalized).\n",
    "\n",
    "Let's load the data from the data engineering step"
   ]
  },
  {
   "cell_type": "code",
   "execution_count": null,
   "id": "cd6c1529",
   "metadata": {},
   "outputs": [
    {
     "name": "stderr",
     "output_type": "stream",
     "text": [
      "Welcome! Want to learn more? See two factoextra-related books at https://goo.gl/ve3WBa\n",
      "\n",
      "Loading required package: Matrix\n",
      "\n",
      "\n",
      "Attaching package: ‘Matrix’\n",
      "\n",
      "\n",
      "The following objects are masked from ‘package:tidyr’:\n",
      "\n",
      "    expand, pack, unpack\n",
      "\n",
      "\n",
      "Loaded glmnet 4.1-2\n",
      "\n",
      "Type 'citation(\"pROC\")' for a citation.\n",
      "\n",
      "\n",
      "Attaching package: ‘pROC’\n",
      "\n",
      "\n",
      "The following objects are masked from ‘package:stats’:\n",
      "\n",
      "    cov, smooth, var\n",
      "\n",
      "\n"
     ]
    }
   ],
   "source": [
    "pacman::p_load(dplyr,readr, FactoInvestigate, Factoshiny, DT, corrplot, rio, FactoMineR, tidyr, shiny, lubridate, broom)\n",
    " \n",
    "library(ggfortify)\n",
    "library(ggplot2)\n",
    "library(grid)\n",
    "library(jpeg)\n",
    "library(cluster) \n",
    "library(factoextra)\n",
    "library(glmnet)\n",
    "library(pROC)\n",
    "library(dplyr)\n",
    "\n",
    "options(warn=-1)\n",
    "\n",
    "\n",
    "# Restore the object\n",
    "touch_data_aggregate=readRDS(file = \"my_data_with_18_cluster_features.rds\")\n"
   ]
  },
  {
   "cell_type": "markdown",
   "id": "4c2ea702",
   "metadata": {},
   "source": [
    "Remove chance_id variable as it's not needed now"
   ]
  },
  {
   "cell_type": "code",
   "execution_count": 40,
   "id": "901ab973",
   "metadata": {},
   "outputs": [],
   "source": [
    "touch_data_aggregate_plays=subset(touch_data_aggregate,select=-c(chance_id))"
   ]
  },
  {
   "cell_type": "markdown",
   "id": "d6f39f23",
   "metadata": {},
   "source": [
    "Create a sum variable per ball possession. It simply counts the number of ball touches per possession"
   ]
  },
  {
   "cell_type": "code",
   "execution_count": 41,
   "id": "9a59d0c5",
   "metadata": {},
   "outputs": [],
   "source": [
    "touch_data_aggregate_plays$sum=rowSums(subset(touch_data_aggregate_plays,select=-shot),na.rm=TRUE)\n",
    "touch_data_aggregate_plays[is.na(touch_data_aggregate_plays)] = 0"
   ]
  },
  {
   "cell_type": "markdown",
   "id": "27e89c5a",
   "metadata": {},
   "source": [
    "Filter ball possesions that have at least two ball touches and set all variables that are more than 1 to 1. This is a simple way to do normalization as are features now are either 0 or 1"
   ]
  },
  {
   "cell_type": "code",
   "execution_count": 42,
   "id": "208a3bca",
   "metadata": {},
   "outputs": [],
   "source": [
    "touch_data_aggregate_plays=touch_data_aggregate_plays %>% filter(sum>1)\n",
    "touch_data_aggregate_plays[touch_data_aggregate_plays>1]=1"
   ]
  },
  {
   "cell_type": "markdown",
   "id": "19c62623",
   "metadata": {},
   "source": [
    "Now we are ready to build the logistic regressin model. sum variable is removed and train and test sets are created"
   ]
  },
  {
   "cell_type": "code",
   "execution_count": 49,
   "id": "9c0a027e",
   "metadata": {},
   "outputs": [],
   "source": [
    "comb_shot_tr=subset(touch_data_aggregate_plays,select=-sum)\n",
    "\n",
    "trPerc = 0.7\n",
    "sp = sample(1:nrow(comb_shot_tr),as.integer(trPerc*nrow(comb_shot_tr)))\n",
    "## division in two samples\n",
    "tr = comb_shot_tr[sp,]\n",
    "ts = comb_shot_tr[-sp,]"
   ]
  },
  {
   "cell_type": "markdown",
   "id": "11d23ffc",
   "metadata": {},
   "source": [
    "A simple unregularized logistic regression model is created"
   ]
  },
  {
   "cell_type": "code",
   "execution_count": null,
   "id": "620b5d89",
   "metadata": {},
   "outputs": [],
   "source": [
    "model <- glmnet(subset(tr,select=-shot), tr$shot, alpha = 0, family = \"binomial\",\n",
    "                lambda = 0)"
   ]
  },
  {
   "cell_type": "markdown",
   "id": "e0442474",
   "metadata": {},
   "source": []
  },
  {
   "cell_type": "code",
   "execution_count": null,
   "id": "5fd778e0",
   "metadata": {},
   "outputs": [],
   "source": [
    "x.test <- model.matrix(shot ~., ts)[,-1]\n",
    "probabilities <- model %>% predict(newx = x.test)\n",
    "\n",
    "\n",
    "ts$prob=probabilities\n",
    "\n",
    "g <- roc(shot ~ prob, data = ts)\n",
    "plot(g)\n",
    "\n",
    "Aunder=auc(g)\n",
    "Aunder"
   ]
  },
  {
   "cell_type": "code",
   "execution_count": null,
   "id": "49959cd7",
   "metadata": {},
   "outputs": [],
   "source": []
  },
  {
   "cell_type": "code",
   "execution_count": null,
   "id": "332367ee",
   "metadata": {},
   "outputs": [],
   "source": [
    "def_plays_imp=as.data.frame(as.matrix(coef(model)))\n",
    "def_plays_imp$def_play=rownames(def_plays_imp)\n",
    "rownames(def_plays_imp)=NULL\n",
    "colnames(def_plays_imp)=c(\"coef\",\"def_play\")\n",
    "\n",
    "def_plays_imp=def_plays_imp[-1,]\n",
    "def_plays_imp=def_plays_imp %>% arrange(coef)"
   ]
  },
  {
   "cell_type": "code",
   "execution_count": null,
   "id": "873bc0ae",
   "metadata": {},
   "outputs": [],
   "source": [
    "saveRDS(def_plays_imp, file = \"def_plays_imp.rds\")"
   ]
  },
  {
   "cell_type": "code",
   "execution_count": null,
   "id": "276b0aa5",
   "metadata": {},
   "outputs": [],
   "source": []
  },
  {
   "cell_type": "markdown",
   "id": "17efae20",
   "metadata": {},
   "source": [
    "### Apendix"
   ]
  },
  {
   "cell_type": "code",
   "execution_count": 7,
   "id": "8cea6ec0",
   "metadata": {
    "collapsed": true
   },
   "outputs": [
    {
     "ename": "ERROR",
     "evalue": "Error in predict(log_fit, ts, type = c(\"response\")): object 'log_fit' not found\n",
     "output_type": "error",
     "traceback": [
      "Error in predict(log_fit, ts, type = c(\"response\")): object 'log_fit' not found\nTraceback:\n",
      "1. predict(log_fit, ts, type = c(\"response\"))"
     ]
    }
   ],
   "source": [
    "library('pROC')\n",
    "\n",
    "prob=predict(log_fit,ts,type=c(\"response\"))\n",
    "\n",
    "ts$prob=prob\n",
    "\n",
    "g <- roc(shot ~ prob, data = ts)\n",
    "plot(g)\n",
    "\n",
    "Aunder=auc(g)\n",
    "Aunder"
   ]
  },
  {
   "cell_type": "markdown",
   "id": "52ae1cd3",
   "metadata": {},
   "source": [
    "#### Naive Bayes"
   ]
  },
  {
   "cell_type": "code",
   "execution_count": 38,
   "id": "fa00e04e",
   "metadata": {},
   "outputs": [],
   "source": [
    "nb_fit=naiveBayes(shot~.,data=train)\n",
    "prob=predict(nb_fit,test,type=\"raw\")\n",
    "\n"
   ]
  },
  {
   "cell_type": "code",
   "execution_count": 39,
   "id": "29741da8",
   "metadata": {},
   "outputs": [
    {
     "name": "stderr",
     "output_type": "stream",
     "text": [
      "Setting levels: control = 0, case = 1\n",
      "\n",
      "Setting direction: controls > cases\n",
      "\n"
     ]
    },
    {
     "data": {
      "text/html": [
       "0.596557688229536"
      ],
      "text/latex": [
       "0.596557688229536"
      ],
      "text/markdown": [
       "0.596557688229536"
      ],
      "text/plain": [
       "Area under the curve: 0.5966"
      ]
     },
     "metadata": {},
     "output_type": "display_data"
    },
    {
     "data": {
      "image/png": "[encoded data removed]",
      "text/plain": [
       "plot without title"
      ]
     },
     "metadata": {
      "image/png": {
       "height": 420,
       "width": 420
      }
     },
     "output_type": "display_data"
    }
   ],
   "source": [
    "test$prob=prob[,1]\n",
    "g <- roc(shot ~ prob, data = test)\n",
    "plot(g)\n",
    "\n",
    "Aunder=auc(g)\n",
    "Aunder\n"
   ]
  },
  {
   "cell_type": "markdown",
   "id": "e1b04391",
   "metadata": {},
   "source": [
    "#### Random Forest"
   ]
  },
  {
   "cell_type": "code",
   "execution_count": null,
   "id": "797f1ef5",
   "metadata": {},
   "outputs": [],
   "source": [
    "classifier_RF = randomForest(x = train[1:521],\n",
    "                             y = train$shot,\n",
    "                             ntree = 500)"
   ]
  },
  {
   "cell_type": "markdown",
   "id": "7fb453ad",
   "metadata": {},
   "source": [
    "#### xgboost"
   ]
  },
  {
   "cell_type": "code",
   "execution_count": 86,
   "id": "e2c4ed9f",
   "metadata": {
    "collapsed": true
   },
   "outputs": [
    {
     "name": "stdout",
     "output_type": "stream",
     "text": [
      "[14:54:05] WARNING: amalgamation/../src/learner.cc:627: \n",
      "Parameters: { \"max_depth\" } might not be used.\n",
      "\n",
      "  This could be a false alarm, with some parameters getting used by language bindings but\n",
      "  then being mistakenly passed down to XGBoost core, or some parameter actually being used\n",
      "  but getting flagged wrongly here. Please open an issue if you find any such cases.\n",
      "\n",
      "\n",
      "[1]\ttrain-logloss:0.469658 \n",
      "[2]\ttrain-logloss:0.457241 \n",
      "[3]\ttrain-logloss:0.454847 \n",
      "[4]\ttrain-logloss:0.454174 \n",
      "[5]\ttrain-logloss:0.453970 \n",
      "[6]\ttrain-logloss:0.453895 \n",
      "[7]\ttrain-logloss:0.453858 \n",
      "[8]\ttrain-logloss:0.453833 \n",
      "[9]\ttrain-logloss:0.453813 \n",
      "[10]\ttrain-logloss:0.453796 \n",
      "[11]\ttrain-logloss:0.453781 \n",
      "[12]\ttrain-logloss:0.453767 \n",
      "[13]\ttrain-logloss:0.453755 \n",
      "[14]\ttrain-logloss:0.453745 \n",
      "[15]\ttrain-logloss:0.453735 \n",
      "[16]\ttrain-logloss:0.453727 \n",
      "[17]\ttrain-logloss:0.453719 \n",
      "[18]\ttrain-logloss:0.453712 \n",
      "[19]\ttrain-logloss:0.453706 \n",
      "[20]\ttrain-logloss:0.453701 \n",
      "[21]\ttrain-logloss:0.453696 \n",
      "[22]\ttrain-logloss:0.453692 \n",
      "[23]\ttrain-logloss:0.453688 \n",
      "[24]\ttrain-logloss:0.453685 \n",
      "[25]\ttrain-logloss:0.453682 \n",
      "[26]\ttrain-logloss:0.453679 \n",
      "[27]\ttrain-logloss:0.453677 \n",
      "[28]\ttrain-logloss:0.453674 \n",
      "[29]\ttrain-logloss:0.453672 \n",
      "[30]\ttrain-logloss:0.453671 \n",
      "[31]\ttrain-logloss:0.453669 \n",
      "[32]\ttrain-logloss:0.453668 \n",
      "[33]\ttrain-logloss:0.453667 \n",
      "[34]\ttrain-logloss:0.453666 \n",
      "[35]\ttrain-logloss:0.453665 \n",
      "[36]\ttrain-logloss:0.453664 \n",
      "[37]\ttrain-logloss:0.453663 \n",
      "[38]\ttrain-logloss:0.453662 \n",
      "[39]\ttrain-logloss:0.453662 \n",
      "[40]\ttrain-logloss:0.453661 \n",
      "[41]\ttrain-logloss:0.453661 \n",
      "[42]\ttrain-logloss:0.453660 \n",
      "[43]\ttrain-logloss:0.453660 \n",
      "[44]\ttrain-logloss:0.453660 \n",
      "[45]\ttrain-logloss:0.453659 \n",
      "[46]\ttrain-logloss:0.453659 \n",
      "[47]\ttrain-logloss:0.453659 \n",
      "[48]\ttrain-logloss:0.453659 \n",
      "[49]\ttrain-logloss:0.453658 \n",
      "[50]\ttrain-logloss:0.453658 \n",
      "[51]\ttrain-logloss:0.453658 \n",
      "[52]\ttrain-logloss:0.453658 \n",
      "[53]\ttrain-logloss:0.453658 \n",
      "[54]\ttrain-logloss:0.453658 \n",
      "[55]\ttrain-logloss:0.453658 \n",
      "[56]\ttrain-logloss:0.453657 \n",
      "[57]\ttrain-logloss:0.453657 \n",
      "[58]\ttrain-logloss:0.453657 \n",
      "[59]\ttrain-logloss:0.453657 \n",
      "[60]\ttrain-logloss:0.453657 \n",
      "[61]\ttrain-logloss:0.453657 \n",
      "[62]\ttrain-logloss:0.453657 \n",
      "[63]\ttrain-logloss:0.453657 \n",
      "[64]\ttrain-logloss:0.453657 \n",
      "[65]\ttrain-logloss:0.453657 \n",
      "[66]\ttrain-logloss:0.453657 \n",
      "[67]\ttrain-logloss:0.453657 \n",
      "[68]\ttrain-logloss:0.453657 \n",
      "[69]\ttrain-logloss:0.453657 \n",
      "[70]\ttrain-logloss:0.453657 \n",
      "[71]\ttrain-logloss:0.453657 \n",
      "[72]\ttrain-logloss:0.453657 \n",
      "[73]\ttrain-logloss:0.453657 \n",
      "[74]\ttrain-logloss:0.453657 \n",
      "[75]\ttrain-logloss:0.453657 \n",
      "[76]\ttrain-logloss:0.453657 \n",
      "[77]\ttrain-logloss:0.453657 \n",
      "[78]\ttrain-logloss:0.453657 \n",
      "[79]\ttrain-logloss:0.453657 \n",
      "[80]\ttrain-logloss:0.453657 \n",
      "[81]\ttrain-logloss:0.453657 \n",
      "[82]\ttrain-logloss:0.453657 \n",
      "[83]\ttrain-logloss:0.453657 \n",
      "[84]\ttrain-logloss:0.453657 \n",
      "[85]\ttrain-logloss:0.453657 \n",
      "[86]\ttrain-logloss:0.453657 \n",
      "[87]\ttrain-logloss:0.453657 \n",
      "[88]\ttrain-logloss:0.453657 \n",
      "[89]\ttrain-logloss:0.453657 \n",
      "[90]\ttrain-logloss:0.453657 \n",
      "[91]\ttrain-logloss:0.453657 \n",
      "[92]\ttrain-logloss:0.453657 \n",
      "[93]\ttrain-logloss:0.453657 \n",
      "[94]\ttrain-logloss:0.453657 \n",
      "[95]\ttrain-logloss:0.453657 \n",
      "[96]\ttrain-logloss:0.453657 \n",
      "[97]\ttrain-logloss:0.453657 \n",
      "[98]\ttrain-logloss:0.453657 \n",
      "[99]\ttrain-logloss:0.453657 \n",
      "[100]\ttrain-logloss:0.453657 \n"
     ]
    }
   ],
   "source": [
    "xgboost_fit=xgboost(data=data.matrix(train[,1:630]),booster=\"gblinear\",label=train$shot,max_depth=6,objective=\"binary:logistic\",nrounds=100)"
   ]
  },
  {
   "cell_type": "code",
   "execution_count": 87,
   "id": "7b0f4fad",
   "metadata": {},
   "outputs": [],
   "source": [
    "tsx=as.matrix(test[,1:630])\n",
    "prob=predict(xgboost_fit,tsx)\n",
    "prob=as.data.frame(prob)\n",
    "ts=as.data.frame(test)\n",
    "\n",
    "ts=cbind(ts,prob)"
   ]
  },
  {
   "cell_type": "code",
   "execution_count": 88,
   "id": "524aead4",
   "metadata": {},
   "outputs": [
    {
     "name": "stderr",
     "output_type": "stream",
     "text": [
      "Setting levels: control = 0, case = 1\n",
      "\n",
      "Setting direction: controls < cases\n",
      "\n"
     ]
    },
    {
     "data": {
      "text/html": [
       "0.616696774518608"
      ],
      "text/latex": [
       "0.616696774518608"
      ],
      "text/markdown": [
       "0.616696774518608"
      ],
      "text/plain": [
       "Area under the curve: 0.6167"
      ]
     },
     "metadata": {},
     "output_type": "display_data"
    },
    {
     "data": {
      "image/png": "[encoded data removed]",
      "text/plain": [
       "plot without title"
      ]
     },
     "metadata": {
      "image/png": {
       "height": 420,
       "width": 420
      }
     },
     "output_type": "display_data"
    }
   ],
   "source": [
    "g <- roc(shot ~ prob, data = ts)\n",
    "plot(g)\n",
    "\n",
    "Aunder=auc(g)\n",
    "Aunder"
   ]
  }
 ],
 "metadata": {
  "kernelspec": {
   "display_name": "R",
   "language": "R",
   "name": "ir"
  },
  "language_info": {
   "codemirror_mode": "r",
   "file_extension": ".r",
   "mimetype": "text/x-r-source",
   "name": "R",
   "pygments_lexer": "r",
   "version": "4.1.3"
  }
 },
 "nbformat": 4,
 "nbformat_minor": 5
}
