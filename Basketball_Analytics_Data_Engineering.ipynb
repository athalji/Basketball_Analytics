{
 "cells": [
  {
   "cell_type": "markdown",
   "id": "9edc1977",
   "metadata": {},
   "source": [
    "# Basketball Analytics Data Engineering"
   ]
  },
  {
   "cell_type": "markdown",
   "id": "d89a2515",
   "metadata": {},
   "source": [
    "The clusters generated in the previous part are used for modeling defensive performance. A defensive play is defined as guarding a ballhandler (Center, Power Forward, etc..) at a certain location in the court at a certain time on the shot clock. In other words, a defensive play is who is guarded, when, and where.\n",
    "\n",
    "After building defensive plays as a combination of these three dimensions, the next step is reformat the data from a ball touch to a ball possession. Each row becomes a ball possession with defensive plays as features. The target variables becomes wehther the ball possession ended with a shot attempt or not"
   ]
  },
  {
   "cell_type": "markdown",
   "id": "7d168b32",
   "metadata": {},
   "source": [
    "Let's load the data from the previous clustering step"
   ]
  },
  {
   "cell_type": "code",
   "execution_count": 1,
   "id": "60963965",
   "metadata": {},
   "outputs": [
    {
     "name": "stderr",
     "output_type": "stream",
     "text": [
      "Welcome! Want to learn more? See two factoextra-related books at https://goo.gl/ve3WBa\n",
      "\n"
     ]
    }
   ],
   "source": [
    "#Load dataset and fill in NA values with median\n",
    "\n",
    "\n",
    "pacman::p_load(dplyr,readr, FactoInvestigate, Factoshiny, DT, corrplot, rio, FactoMineR, tidyr, shiny, lubridate, broom)\n",
    " \n",
    "library(ggfortify)\n",
    "library(ggplot2)\n",
    "library(grid)\n",
    "library(jpeg)\n",
    "library(cluster) \n",
    "library(factoextra)\n",
    "options(warn=-1)\n",
    "\n",
    "\n",
    "# Restore the object\n",
    "touch_data=readRDS(file = \"my_data_with_18_clusters.rds\")\n"
   ]
  },
  {
   "cell_type": "markdown",
   "id": "285e34f1",
   "metadata": {},
   "source": [
    "Let's create bins for the time on sot clock. It's divided into three bins 0-5, 5-10, and 10-24 secs"
   ]
  },
  {
   "cell_type": "code",
   "execution_count": 2,
   "id": "2a269e97",
   "metadata": {},
   "outputs": [],
   "source": [
    "\n",
    "touch_data$time_group=\" \"\n",
    "\n",
    "touch_data$time_group[touch_data$start_shot_clock <5]=\"0_to_5\"\n",
    "touch_data$time_group[touch_data$start_shot_clock >=5 & touch_data$start_shot_clock <10]=\"5_to_10\"\n",
    "touch_data$time_group[touch_data$start_shot_clock >=10]=\"10_to_24\"\n",
    "\n",
    "touch_data$cluster <- as.numeric(as.character(touch_data$cluster))\n"
   ]
  },
  {
   "cell_type": "markdown",
   "id": "8d96d011",
   "metadata": {},
   "source": [
    "Let's clean up the ballhandler positions. We only need five main player positions C, PF, SF, SG, and PG"
   ]
  },
  {
   "cell_type": "code",
   "execution_count": 5,
   "id": "cfdd3ae4",
   "metadata": {},
   "outputs": [
    {
     "data": {
      "text/html": [
       "<style>\n",
       ".list-inline {list-style: none; margin:0; padding: 0}\n",
       ".list-inline>li {display: inline-block}\n",
       ".list-inline>li:not(:last-child)::after {content: \"\\00b7\"; padding: 0 .5ex}\n",
       "</style>\n",
       "<ol class=list-inline><li>'C'</li><li>'PF'</li><li>'SF'</li><li>'SG'</li><li>'PG'</li></ol>\n"
      ],
      "text/latex": [
       "\\begin{enumerate*}\n",
       "\\item 'C'\n",
       "\\item 'PF'\n",
       "\\item 'SF'\n",
       "\\item 'SG'\n",
       "\\item 'PG'\n",
       "\\end{enumerate*}\n"
      ],
      "text/markdown": [
       "1. 'C'\n",
       "2. 'PF'\n",
       "3. 'SF'\n",
       "4. 'SG'\n",
       "5. 'PG'\n",
       "\n",
       "\n"
      ],
      "text/plain": [
       "[1] \"C\"  \"PF\" \"SF\" \"SG\" \"PG\""
      ]
     },
     "metadata": {},
     "output_type": "display_data"
    }
   ],
   "source": [
    "touch_data$bh_pos[touch_data$bh_pos=='PG-SG']='PG'\n",
    "touch_data$bh_pos[touch_data$bh_pos=='SF-SG']='SF'\n",
    "touch_data$bh_pos[touch_data$bh_pos=='SG-PG']='SG'\n",
    "touch_data$bh_pos[touch_data$bh_pos=='PF-SF']='PF'\n",
    "touch_data$bh_pos[touch_data$bh_pos=='SF-PF']='SF'\n",
    "touch_data$bh_pos[touch_data$bh_pos=='SG-SF']='SG'\n",
    "touch_data$bh_pos[touch_data$bh_pos=='G-F']='PG'\n",
    "touch_data$bh_pos[touch_data$bh_pos=='F']='PF'\n",
    "\n",
    "unique(touch_data$bh_pos)\n",
    "\n",
    "\n"
   ]
  },
  {
   "cell_type": "markdown",
   "id": "ce99d671",
   "metadata": {},
   "source": [
    "Now we combine the three variables discussed earlier into one combined feature. Ballhandler position combined with time on shot clock combined with the cluster of the location on court. We end up with a total of 270 features"
   ]
  },
  {
   "cell_type": "code",
   "execution_count": 6,
   "id": "491c9c3f",
   "metadata": {},
   "outputs": [],
   "source": [
    "touch_data$combined= paste(touch_data$cluster,\"-\",touch_data$time_group,\"-\",touch_data$bh_pos)"
   ]
  },
  {
   "cell_type": "code",
   "execution_count": 7,
   "id": "25a4d8a8",
   "metadata": {},
   "outputs": [
    {
     "data": {
      "text/html": [
       "270"
      ],
      "text/latex": [
       "270"
      ],
      "text/markdown": [
       "270"
      ],
      "text/plain": [
       "[1] 270"
      ]
     },
     "metadata": {},
     "output_type": "display_data"
    }
   ],
   "source": [
    "length(unique(touch_data$combined))"
   ]
  },
  {
   "cell_type": "markdown",
   "id": "2513265f",
   "metadata": {},
   "source": [
    "Now we reformat the data from a ball touch level to a ball possession level. This is acheived by doing a pivot table on chance id, counting the defensive plays and then spreading them as columns"
   ]
  },
  {
   "cell_type": "code",
   "execution_count": null,
   "id": "a132c2fc",
   "metadata": {},
   "outputs": [],
   "source": [
    "touch_data_aggregate=touch_data %>%\n",
    "    group_by(chance_id)%>%\n",
    "    count(chance_id,combined) %>%\n",
    "    spread(combined, n)\n",
    "\n",
    "touch_data_aggregate[is.na(touch_data_aggregate)] = 0"
   ]
  },
  {
   "cell_type": "markdown",
   "id": "3b8cf865",
   "metadata": {},
   "source": [
    "after the pivot table we add the target variable which is 1 if a shot was attempted at the end of the ball possession and 0 other wise"
   ]
  },
  {
   "cell_type": "code",
   "execution_count": 7,
   "id": "38a86cdf",
   "metadata": {},
   "outputs": [],
   "source": [
    "touch_data$led_to_shot=as.numeric(touch_data$led_to_shot)\n",
    "\n",
    "touch_data_shot=touch_data %>% group_by(chance_id) %>% summarise(shot=sum(led_to_shot))\n",
    "touch_data_shot$shot[touch_data_shot$shot > 1]=1\n",
    "\n",
    "touch_data_aggregate=merge(touch_data_aggregate,touch_data_shot,by='chance_id')\n"
   ]
  },
  {
   "cell_type": "markdown",
   "id": "6b0baf38",
   "metadata": {},
   "source": [
    "Save the data for later use in predictive modeling"
   ]
  },
  {
   "cell_type": "code",
   "execution_count": 8,
   "id": "93f6f8cc",
   "metadata": {},
   "outputs": [],
   "source": [
    "# Save an object to a file\n",
    "saveRDS(touch_data_aggregate, file = \"my_data_with_18_cluster_features.rds\")\n",
    "# Restore the object\n",
    "#readRDS(file = \"my_data.rds\")"
   ]
  },
  {
   "cell_type": "markdown",
   "id": "a2cc5c90",
   "metadata": {},
   "source": [
    "### Player defensive plays count"
   ]
  },
  {
   "cell_type": "markdown",
   "id": "010a1089",
   "metadata": {},
   "source": [
    "After aggregating the data per ball possesion to moel the effect of each defensive play on the likelihood of a shot being attempted, we go ahead and do the same per player. we simply count the number of times each player has made each defensive play and normalize it by the total number of plays made by a player. This way, basewd on how often each player makes a defensive play, and how much this play affects the likelihood of a shot attempt, we can calculate how effective each player is in preventing a shot attempt, which is what our defensive ranking is based on"
   ]
  },
  {
   "cell_type": "code",
   "execution_count": 6,
   "id": "e8e32ef3",
   "metadata": {},
   "outputs": [],
   "source": [
    "player_aggregate=touch_data %>%\n",
    "    group_by(defender_id)%>%\n",
    "    count(defender_id,combined) %>%\n",
    "    spread(combined, n)\n",
    "\n",
    "player_aggregate[is.na(player_aggregate)] = 0"
   ]
  },
  {
   "cell_type": "markdown",
   "id": "dc8844e0",
   "metadata": {},
   "source": [
    "Add a sum column that counts the total defensive plays made by a player"
   ]
  },
  {
   "cell_type": "code",
   "execution_count": 7,
   "id": "e3725693",
   "metadata": {},
   "outputs": [],
   "source": [
    "player_aggregate$sum=rowSums(subset(player_aggregate,select=-defender_id),na.rm=TRUE)"
   ]
  },
  {
   "cell_type": "markdown",
   "id": "c597c737",
   "metadata": {},
   "source": [
    "Check statistics of the count of plays and only keep players with more than 700 defensive plays. We only want to analyze players that have played long enough for significant results"
   ]
  },
  {
   "cell_type": "code",
   "execution_count": 40,
   "id": "8f648095",
   "metadata": {},
   "outputs": [
    {
     "data": {
      "text/plain": [
       "   Min. 1st Qu.  Median    Mean 3rd Qu.    Max. \n",
       "    2.0   448.2  1979.0  2648.8  4469.2 10728.0 "
      ]
     },
     "metadata": {},
     "output_type": "display_data"
    }
   ],
   "source": [
    "summary(player_aggregate$sum)"
   ]
  },
  {
   "cell_type": "code",
   "execution_count": 8,
   "id": "29f7a8b3",
   "metadata": {},
   "outputs": [],
   "source": [
    "player_aggregate=player_aggregate %>% filter(sum>700)"
   ]
  },
  {
   "cell_type": "markdown",
   "id": "59258201",
   "metadata": {},
   "source": [
    "Save the dataframe for later use in creating the defensive player rankings"
   ]
  },
  {
   "cell_type": "code",
   "execution_count": 9,
   "id": "50de2a74",
   "metadata": {},
   "outputs": [],
   "source": [
    "# Save an object to a file\n",
    "saveRDS(player_aggregate, file = \"my_data_with_player_features_18.rds\")\n",
    "# Restore the object\n",
    "#readRDS(file = \"my_data.rds\")"
   ]
  }
 ],
 "metadata": {
  "kernelspec": {
   "display_name": "R",
   "language": "R",
   "name": "ir"
  },
  "language_info": {
   "codemirror_mode": "r",
   "file_extension": ".r",
   "mimetype": "text/x-r-source",
   "name": "R",
   "pygments_lexer": "r",
   "version": "4.1.3"
  }
 },
 "nbformat": 4,
 "nbformat_minor": 5
}
